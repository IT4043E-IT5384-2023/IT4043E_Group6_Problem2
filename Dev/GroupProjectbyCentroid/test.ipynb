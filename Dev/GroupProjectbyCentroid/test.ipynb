{
 "cells": [
  {
   "cell_type": "code",
   "execution_count": 1,
   "metadata": {},
   "outputs": [
    {
     "name": "stderr",
     "output_type": "stream",
     "text": [
      "f:\\BTVN\\HUST_doc\\20231\\BigData\\Final_project\\get_transactions.py:6: DtypeWarning: Columns (17,21,22,23,24,25,26,27) have mixed types. Specify dtype option on import or set low_memory=False.\n",
      "  transactions = pd.read_csv(\"transactions.csv\")\n"
     ]
    },
    {
     "name": "stdout",
     "output_type": "stream",
     "text": [
      "abc\n"
     ]
    },
    {
     "name": "stderr",
     "output_type": "stream",
     "text": [
      "f:\\BTVN\\HUST_doc\\20231\\BigData\\Final_project\\get_categories.py:9: DtypeWarning: Columns (4,5) have mixed types. Specify dtype option on import or set low_memory=False.\n",
      "  smart_contracts_df = pd.read_csv(\"project_smc.csv\")\n"
     ]
    },
    {
     "name": "stdout",
     "output_type": "stream",
     "text": [
      "Def\n"
     ]
    }
   ],
   "source": [
    "from pyspark.ml.feature import VectorAssembler\n",
    "from pyspark.ml.pipeline import Pipeline\n",
    "from pyspark.ml.clustering import KMeans, KMeansModel\n",
    "from pyspark.sql import SparkSession\n",
    "import pyspark.sql.functions as F\n",
    "\n",
    "from pymongo import MongoClient\n",
    "import pandas as pd\n",
    "import numpy as np\n",
    "import json\n",
    "import difflib\n",
    "import tqdm\n",
    "import time\n",
    "from get_categories import get_categories\n",
    "from get_transactions import get_transaction_data\n",
    "\n",
    "transactions_df = get_transaction_data()\n",
    "project_smc_df = get_categories(True)\n",
    "\n",
    "transaction_project_df = pd.merge(transactions_df,\n",
    "                                project_smc_df,\n",
    "                                left_on='to_address', \n",
    "                                right_on='address', \n",
    "                                how='inner')\n",
    "\n",
    "address_categories = transaction_project_df.groupby([\"mapped_categories\", \"from_address\"]).count().reset_index()[['mapped_categories', 'from_address', \"to_address\", '_id_x']]\n",
    "address_categories.columns = [\"categories\", \"userAddress\", \"projectAddress\", \"count\"]\n",
    "\n",
    "for cate in address_categories.categories.unique():\n",
    "    address_categories[f'{cate}_count'] = len(address_categories[address_categories.categories == cate])\n",
    "    \n",
    "address_categories.to_csv(\"address_categories.csv\", index=False)"
   ]
  },
  {
   "cell_type": "code",
   "execution_count": 2,
   "metadata": {},
   "outputs": [],
   "source": [
    "address_categories = transaction_project_df.groupby([\"mapped_categories\", \"from_address\"]).count().reset_index()[['mapped_categories', 'from_address', '_id_x']]\n",
    "address_categories.columns = [\"categories\", \"userAddress\", \"count\"]"
   ]
  },
  {
   "cell_type": "code",
   "execution_count": 3,
   "metadata": {},
   "outputs": [],
   "source": [
    "for cate in address_categories.categories.unique():\n",
    "    address_categories[f'{cate}_count'] = len(address_categories[address_categories.categories == cate])\n",
    "    \n",
    "address_categories.to_csv(\"address_categories.csv\", index=False)"
   ]
  },
  {
   "cell_type": "code",
   "execution_count": 4,
   "metadata": {},
   "outputs": [
    {
     "data": {
      "text/html": [
       "<div>\n",
       "<style scoped>\n",
       "    .dataframe tbody tr th:only-of-type {\n",
       "        vertical-align: middle;\n",
       "    }\n",
       "\n",
       "    .dataframe tbody tr th {\n",
       "        vertical-align: top;\n",
       "    }\n",
       "\n",
       "    .dataframe thead th {\n",
       "        text-align: right;\n",
       "    }\n",
       "</style>\n",
       "<table border=\"1\" class=\"dataframe\">\n",
       "  <thead>\n",
       "    <tr style=\"text-align: right;\">\n",
       "      <th></th>\n",
       "      <th>categories</th>\n",
       "      <th>userAddress</th>\n",
       "      <th>count</th>\n",
       "      <th>Art_count</th>\n",
       "      <th>Derivatives_count</th>\n",
       "      <th>Dexes_count</th>\n",
       "      <th>Gaming_count</th>\n",
       "      <th>Infrastructure_count</th>\n",
       "      <th>Lending_count</th>\n",
       "      <th>NFT_count</th>\n",
       "      <th>Services_count</th>\n",
       "      <th>Stablecoins_count</th>\n",
       "      <th>Virtual Worlds_count</th>\n",
       "    </tr>\n",
       "  </thead>\n",
       "  <tbody>\n",
       "    <tr>\n",
       "      <th>0</th>\n",
       "      <td>Art</td>\n",
       "      <td>0x0012195f694f8125438c03c1692917e6de5fda76</td>\n",
       "      <td>1</td>\n",
       "      <td>2187</td>\n",
       "      <td>1535</td>\n",
       "      <td>348</td>\n",
       "      <td>115</td>\n",
       "      <td>23099</td>\n",
       "      <td>513</td>\n",
       "      <td>3272</td>\n",
       "      <td>1354</td>\n",
       "      <td>2644</td>\n",
       "      <td>809</td>\n",
       "    </tr>\n",
       "    <tr>\n",
       "      <th>1</th>\n",
       "      <td>Art</td>\n",
       "      <td>0x0021fedbd4d45d9762a2aadc4e4837ac949e8bb0</td>\n",
       "      <td>1</td>\n",
       "      <td>2187</td>\n",
       "      <td>1535</td>\n",
       "      <td>348</td>\n",
       "      <td>115</td>\n",
       "      <td>23099</td>\n",
       "      <td>513</td>\n",
       "      <td>3272</td>\n",
       "      <td>1354</td>\n",
       "      <td>2644</td>\n",
       "      <td>809</td>\n",
       "    </tr>\n",
       "    <tr>\n",
       "      <th>2</th>\n",
       "      <td>Art</td>\n",
       "      <td>0x00256d6f9757a193778c21eda9f8df4f74f47e7d</td>\n",
       "      <td>1</td>\n",
       "      <td>2187</td>\n",
       "      <td>1535</td>\n",
       "      <td>348</td>\n",
       "      <td>115</td>\n",
       "      <td>23099</td>\n",
       "      <td>513</td>\n",
       "      <td>3272</td>\n",
       "      <td>1354</td>\n",
       "      <td>2644</td>\n",
       "      <td>809</td>\n",
       "    </tr>\n",
       "    <tr>\n",
       "      <th>3</th>\n",
       "      <td>Art</td>\n",
       "      <td>0x002e1798bff1ea5bcd703133eb61706070080c19</td>\n",
       "      <td>1</td>\n",
       "      <td>2187</td>\n",
       "      <td>1535</td>\n",
       "      <td>348</td>\n",
       "      <td>115</td>\n",
       "      <td>23099</td>\n",
       "      <td>513</td>\n",
       "      <td>3272</td>\n",
       "      <td>1354</td>\n",
       "      <td>2644</td>\n",
       "      <td>809</td>\n",
       "    </tr>\n",
       "    <tr>\n",
       "      <th>4</th>\n",
       "      <td>Art</td>\n",
       "      <td>0x004b883f8adf1d0fabafc129e9ff9a43fea525fc</td>\n",
       "      <td>1</td>\n",
       "      <td>2187</td>\n",
       "      <td>1535</td>\n",
       "      <td>348</td>\n",
       "      <td>115</td>\n",
       "      <td>23099</td>\n",
       "      <td>513</td>\n",
       "      <td>3272</td>\n",
       "      <td>1354</td>\n",
       "      <td>2644</td>\n",
       "      <td>809</td>\n",
       "    </tr>\n",
       "  </tbody>\n",
       "</table>\n",
       "</div>"
      ],
      "text/plain": [
       "  categories                                 userAddress  count  Art_count  \\\n",
       "0        Art  0x0012195f694f8125438c03c1692917e6de5fda76      1       2187   \n",
       "1        Art  0x0021fedbd4d45d9762a2aadc4e4837ac949e8bb0      1       2187   \n",
       "2        Art  0x00256d6f9757a193778c21eda9f8df4f74f47e7d      1       2187   \n",
       "3        Art  0x002e1798bff1ea5bcd703133eb61706070080c19      1       2187   \n",
       "4        Art  0x004b883f8adf1d0fabafc129e9ff9a43fea525fc      1       2187   \n",
       "\n",
       "   Derivatives_count  Dexes_count  Gaming_count  Infrastructure_count  \\\n",
       "0               1535          348           115                 23099   \n",
       "1               1535          348           115                 23099   \n",
       "2               1535          348           115                 23099   \n",
       "3               1535          348           115                 23099   \n",
       "4               1535          348           115                 23099   \n",
       "\n",
       "   Lending_count  NFT_count  Services_count  Stablecoins_count  \\\n",
       "0            513       3272            1354               2644   \n",
       "1            513       3272            1354               2644   \n",
       "2            513       3272            1354               2644   \n",
       "3            513       3272            1354               2644   \n",
       "4            513       3272            1354               2644   \n",
       "\n",
       "   Virtual Worlds_count  \n",
       "0                   809  \n",
       "1                   809  \n",
       "2                   809  \n",
       "3                   809  \n",
       "4                   809  "
      ]
     },
     "execution_count": 4,
     "metadata": {},
     "output_type": "execute_result"
    }
   ],
   "source": [
    "address_categories.head()"
   ]
  },
  {
   "cell_type": "code",
   "execution_count": 5,
   "metadata": {},
   "outputs": [],
   "source": [
    "spark = SparkSession.builder.appName(\"test\").getOrCreate()\n",
    "df = spark.read.options(inferSchema='True',delimiter=',', header='True').csv(\"address_categories.csv\")\n",
    "\n",
    "feature_cols = df.columns\n",
    "feature_cols.remove(\"categories\")\n",
    "feature_cols.remove(\"userAddress\")\n",
    "\n",
    "va = VectorAssembler(inputCols= feature_cols,\n",
    "                    outputCol = \"features\")\n",
    "kmeans = KMeans()\n",
    "\n",
    "model = kmeans.fit(va.transform(df))\n",
    "# pipeline = Pipeline(stages=[va, kmeans])\n",
    "\n",
    "# pipeline_model = pipeline.fit(df)"
   ]
  },
  {
   "cell_type": "code",
   "execution_count": 6,
   "metadata": {},
   "outputs": [],
   "source": [
    "# res = pipeline_model.transform(df).select(\"address\", \"prediction\").toPandas()\n",
    "centroids = model.clusterCenters()\n",
    "\n",
    "distance_columns = [\n",
    "    F.sqrt(sum((F.col(feature_cols[i]) - centroids[j][i]) ** 2 for i in range(len(feature_cols))))\n",
    "    for j in range(len(centroids))\n",
    "]\n",
    "\n",
    "# Add a column 'distance_to_centroid' to the DataFrame\n",
    "df_with_distance = model.transform(va.transform(df)).withColumn(\n",
    "    \"distance_to_centroid\",\n",
    "    distance_columns[model.transform(va.transform(df)).select(\"prediction\").collect()[0][\"prediction\"]]\n",
    ")\n"
   ]
  },
  {
   "cell_type": "code",
   "execution_count": 7,
   "metadata": {},
   "outputs": [],
   "source": [
    "res_df = df_with_distance.select(\"userAddress\", \"prediction\", \"distance_to_centroid\").toPandas()"
   ]
  },
  {
   "cell_type": "code",
   "execution_count": null,
   "metadata": {},
   "outputs": [],
   "source": [
    "def infer(df):\n",
    "    global pipeline_model, project_smc_df\n",
    "    res: pd.DataFrame = pipeline_model.transform(df).select(\"address\", \"prediction\").toPandas()\n",
    "    \n",
    "    "
   ]
  },
  {
   "cell_type": "code",
   "execution_count": 17,
   "metadata": {},
   "outputs": [],
   "source": [
    "merged_df = pd.merge(res_df,\n",
    "                     transaction_project_df[[\"from_address\", \"to_address\"]],\n",
    "                     left_on='userAddress',\n",
    "                     right_on='from_address',\n",
    "                     how='inner')"
   ]
  },
  {
   "cell_type": "code",
   "execution_count": 22,
   "metadata": {},
   "outputs": [
    {
     "data": {
      "text/plain": [
       "Index(['userAddress', 'prediction', 'distance_to_centroid', 'from_address',\n",
       "       'to_address'],\n",
       "      dtype='object')"
      ]
     },
     "execution_count": 22,
     "metadata": {},
     "output_type": "execute_result"
    }
   ],
   "source": [
    "merged_df.columns"
   ]
  },
  {
   "cell_type": "code",
   "execution_count": 21,
   "metadata": {},
   "outputs": [
    {
     "data": {
      "text/html": [
       "<div>\n",
       "<style scoped>\n",
       "    .dataframe tbody tr th:only-of-type {\n",
       "        vertical-align: middle;\n",
       "    }\n",
       "\n",
       "    .dataframe tbody tr th {\n",
       "        vertical-align: top;\n",
       "    }\n",
       "\n",
       "    .dataframe thead th {\n",
       "        text-align: right;\n",
       "    }\n",
       "</style>\n",
       "<table border=\"1\" class=\"dataframe\">\n",
       "  <thead>\n",
       "    <tr style=\"text-align: right;\">\n",
       "      <th></th>\n",
       "      <th>prediction</th>\n",
       "      <th>to_address</th>\n",
       "      <th>distance_to_centroid</th>\n",
       "    </tr>\n",
       "  </thead>\n",
       "  <tbody>\n",
       "    <tr>\n",
       "      <th>0</th>\n",
       "      <td>0</td>\n",
       "      <td>[0x95ad61b0a150d79219dcf64e1e6cc01f0b64c4ce, 0...</td>\n",
       "      <td>[0.49535681418890665, 0.49535681418890665, 0.4...</td>\n",
       "    </tr>\n",
       "    <tr>\n",
       "      <th>1</th>\n",
       "      <td>1</td>\n",
       "      <td>[0xfd086bc7cd5c481dcc9c85ebe478a1c0b69fcbb9, 0...</td>\n",
       "      <td>[173.5046431858111, 173.5046431858111, 173.504...</td>\n",
       "    </tr>\n",
       "  </tbody>\n",
       "</table>\n",
       "</div>"
      ],
      "text/plain": [
       "   prediction                                         to_address  \\\n",
       "0           0  [0x95ad61b0a150d79219dcf64e1e6cc01f0b64c4ce, 0...   \n",
       "1           1  [0xfd086bc7cd5c481dcc9c85ebe478a1c0b69fcbb9, 0...   \n",
       "\n",
       "                                distance_to_centroid  \n",
       "0  [0.49535681418890665, 0.49535681418890665, 0.4...  \n",
       "1  [173.5046431858111, 173.5046431858111, 173.504...  "
      ]
     },
     "execution_count": 21,
     "metadata": {},
     "output_type": "execute_result"
    }
   ],
   "source": [
    "merged_df.groupby(\"prediction\")[['to_address', 'distance_to_centroid']].agg(list).reset_index()"
   ]
  },
  {
   "cell_type": "code",
   "execution_count": 16,
   "metadata": {},
   "outputs": [
    {
     "data": {
      "text/plain": [
       "Index(['Unnamed: 0_x', '_id_x', 'type', 'hash', 'nonce', 'transaction_index',\n",
       "       'from_address', 'to_address', 'value', 'gas', 'gas_price', 'input',\n",
       "       'block_timestamp', 'block_number', 'block_hash',\n",
       "       'receipt_cumulative_gas_used', 'receipt_gas_used',\n",
       "       'receipt_contract_address', 'receipt_root', 'receipt_status',\n",
       "       'item_timestamp', 'decoded_input_event', 'enriched_data', 'event_types',\n",
       "       'related_addresses_event', 'decoded_input', 'related_addresses',\n",
       "       'transaction_type', 'Unnamed: 0_y', '_id_y', 'address', 'name',\n",
       "       'symbol', 'categories', 'chainId', 'mapped_categories'],\n",
       "      dtype='object')"
      ]
     },
     "execution_count": 16,
     "metadata": {},
     "output_type": "execute_result"
    }
   ],
   "source": [
    "transaction_project_df.columns"
   ]
  },
  {
   "cell_type": "code",
   "execution_count": null,
   "metadata": {},
   "outputs": [],
   "source": []
  }
 ],
 "metadata": {
  "kernelspec": {
   "display_name": "bigdata",
   "language": "python",
   "name": "python3"
  },
  "language_info": {
   "codemirror_mode": {
    "name": "ipython",
    "version": 3
   },
   "file_extension": ".py",
   "mimetype": "text/x-python",
   "name": "python",
   "nbconvert_exporter": "python",
   "pygments_lexer": "ipython3",
   "version": "3.9.18"
  }
 },
 "nbformat": 4,
 "nbformat_minor": 2
}
