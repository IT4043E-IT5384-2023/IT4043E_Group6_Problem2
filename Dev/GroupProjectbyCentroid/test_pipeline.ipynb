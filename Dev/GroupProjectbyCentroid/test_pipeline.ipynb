{
 "cells": [
  {
   "cell_type": "code",
   "execution_count": 5,
   "metadata": {},
   "outputs": [
    {
     "name": "stderr",
     "output_type": "stream",
     "text": [
      "f:\\BTVN\\HUST_doc\\20231\\BigData\\Final_project\\get_categories.py:9: DtypeWarning: Columns (4,5) have mixed types. Specify dtype option on import or set low_memory=False.\n",
      "  smart_contracts_df = pd.read_csv(\"project_smc.csv\")\n"
     ]
    },
    {
     "name": "stdout",
     "output_type": "stream",
     "text": [
      "Def\n"
     ]
    },
    {
     "name": "stderr",
     "output_type": "stream",
     "text": [
      "f:\\BTVN\\HUST_doc\\20231\\BigData\\Final_project\\get_transactions.py:6: DtypeWarning: Columns (17,21,22,23,24,25,26,27) have mixed types. Specify dtype option on import or set low_memory=False.\n",
      "  transactions = pd.read_csv(\"transactions.csv\")\n"
     ]
    },
    {
     "name": "stdout",
     "output_type": "stream",
     "text": [
      "abc\n"
     ]
    }
   ],
   "source": [
    "from get_categories import get_categories\n",
    "from get_transactions import get_transaction_data\n",
    "from pipeline import customPipeline\n",
    "import pandas as pd\n",
    "from pyspark.sql import SparkSession\n",
    "\n",
    "project_smc_df = get_categories(preprocess=True)\n",
    "transactions_df = get_transaction_data()\n",
    "transaction_project_df = pd.merge(transactions_df,\n",
    "                                project_smc_df,\n",
    "                                left_on='to_address', \n",
    "                                right_on='address', \n",
    "                                how='inner')\n",
    "\n",
    "address_categories = transaction_project_df.groupby([\"mapped_categories\", \"from_address\"]).count().reset_index()[['mapped_categories', 'from_address', '_id_x']]\n",
    "address_categories.columns = [\"categories\", \"userAddress\", \"count\"]\n",
    "\n",
    "for cate in address_categories.categories.unique():\n",
    "    address_categories[f'{cate}_count'] = len(address_categories[address_categories.categories == cate])\n",
    "    \n",
    "\n",
    "# address_categories = transaction_project_df.groupby([\"mapped_categories\", \"from_address\"]).count().reset_index()[['mapped_categories', 'from_address', '_id_x']]\n",
    "# address_categories.columns = [\"categories\",\n",
    "#                               \"userAddress\", \"projectAddress\", \"count\"]\n",
    "\n",
    "# for cate in address_categories.categories.unique():\n",
    "#     address_categories[f'{cate}_count'] = len(\n",
    "#         address_categories[address_categories.categories == cate])\n",
    "\n",
    "address_categories.to_csv(\"address_categories.csv\", index=False)\n",
    "# return pipeline.infer(address_categories)\n",
    "\n"
   ]
  },
  {
   "cell_type": "code",
   "execution_count": null,
   "metadata": {},
   "outputs": [],
   "source": [
    "spark = SparkSession.builder.appName(\"test\").getOrCreate()\n",
    "df = spark.read.options(inferSchema='True',delimiter=',', header='True').csv(\"address_categories.csv\")\n",
    "pipeline = customPipeline()\n",
    "pipeline.train(df)"
   ]
  },
  {
   "cell_type": "code",
   "execution_count": 2,
   "metadata": {},
   "outputs": [
    {
     "name": "stdout",
     "output_type": "stream",
     "text": [
      "Index(['userAddress', 'prediction', 'distance_to_centroid', 'to_address'], dtype='object')\n"
     ]
    },
    {
     "data": {
      "text/html": [
       "<div>\n",
       "<style scoped>\n",
       "    .dataframe tbody tr th:only-of-type {\n",
       "        vertical-align: middle;\n",
       "    }\n",
       "\n",
       "    .dataframe tbody tr th {\n",
       "        vertical-align: top;\n",
       "    }\n",
       "\n",
       "    .dataframe thead th {\n",
       "        text-align: right;\n",
       "    }\n",
       "</style>\n",
       "<table border=\"1\" class=\"dataframe\">\n",
       "  <thead>\n",
       "    <tr style=\"text-align: right;\">\n",
       "      <th></th>\n",
       "      <th>prediction</th>\n",
       "      <th>projectAddress</th>\n",
       "      <th>distance_to_centroid</th>\n",
       "    </tr>\n",
       "  </thead>\n",
       "  <tbody>\n",
       "    <tr>\n",
       "      <th>0</th>\n",
       "      <td>0</td>\n",
       "      <td>[0x95ad61b0a150d79219dcf64e1e6cc01f0b64c4ce, 0...</td>\n",
       "      <td>[0.49535681418890665, 0.49535681418890665, 0.4...</td>\n",
       "    </tr>\n",
       "    <tr>\n",
       "      <th>1</th>\n",
       "      <td>1</td>\n",
       "      <td>[0xfd086bc7cd5c481dcc9c85ebe478a1c0b69fcbb9, 0...</td>\n",
       "      <td>[173.5046431858111, 173.5046431858111, 173.504...</td>\n",
       "    </tr>\n",
       "  </tbody>\n",
       "</table>\n",
       "</div>"
      ],
      "text/plain": [
       "   prediction                                     projectAddress  \\\n",
       "0           0  [0x95ad61b0a150d79219dcf64e1e6cc01f0b64c4ce, 0...   \n",
       "1           1  [0xfd086bc7cd5c481dcc9c85ebe478a1c0b69fcbb9, 0...   \n",
       "\n",
       "                                distance_to_centroid  \n",
       "0  [0.49535681418890665, 0.49535681418890665, 0.4...  \n",
       "1  [173.5046431858111, 173.5046431858111, 173.504...  "
      ]
     },
     "execution_count": 2,
     "metadata": {},
     "output_type": "execute_result"
    }
   ],
   "source": [
    "pipeline.infer(df, \n",
    "              project_smc_df, \n",
    "              transactions_df)"
   ]
  },
  {
   "cell_type": "code",
   "execution_count": 4,
   "metadata": {},
   "outputs": [
    {
     "data": {
      "text/plain": [
       "['categories',\n",
       " 'userAddress',\n",
       " 'count',\n",
       " 'Art_count',\n",
       " 'Derivatives_count',\n",
       " 'Dexes_count',\n",
       " 'Gaming_count',\n",
       " 'Infrastructure_count',\n",
       " 'Lending_count',\n",
       " 'NFT_count',\n",
       " 'Services_count',\n",
       " 'Stablecoins_count',\n",
       " 'Virtual Worlds_count']"
      ]
     },
     "execution_count": 4,
     "metadata": {},
     "output_type": "execute_result"
    }
   ],
   "source": [
    "df.columns"
   ]
  },
  {
   "cell_type": "code",
   "execution_count": null,
   "metadata": {},
   "outputs": [],
   "source": []
  }
 ],
 "metadata": {
  "kernelspec": {
   "display_name": "WebMining",
   "language": "python",
   "name": "python3"
  },
  "language_info": {
   "codemirror_mode": {
    "name": "ipython",
    "version": 3
   },
   "file_extension": ".py",
   "mimetype": "text/x-python",
   "name": "python",
   "nbconvert_exporter": "python",
   "pygments_lexer": "ipython3",
   "version": "3.9.18"
  }
 },
 "nbformat": 4,
 "nbformat_minor": 2
}
